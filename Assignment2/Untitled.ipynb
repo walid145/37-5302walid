{
 "cells": [
  {
   "cell_type": "code",
   "execution_count": 3,
   "metadata": {},
   "outputs": [
    {
     "data": {
      "text/plain": [
       "\u001b[1;31mSignature:\u001b[0m \u001b[0mnp\u001b[0m\u001b[1;33m.\u001b[0m\u001b[0mtranspose\u001b[0m\u001b[1;33m(\u001b[0m\u001b[0ma\u001b[0m\u001b[1;33m,\u001b[0m \u001b[0maxes\u001b[0m\u001b[1;33m=\u001b[0m\u001b[1;32mNone\u001b[0m\u001b[1;33m)\u001b[0m\u001b[1;33m\u001b[0m\u001b[1;33m\u001b[0m\u001b[0m\n",
       "\u001b[1;31mDocstring:\u001b[0m\n",
       "Permute the dimensions of an array.\n",
       "\n",
       "Parameters\n",
       "----------\n",
       "a : array_like\n",
       "    Input array.\n",
       "axes : list of ints, optional\n",
       "    By default, reverse the dimensions, otherwise permute the axes\n",
       "    according to the values given.\n",
       "\n",
       "Returns\n",
       "-------\n",
       "p : ndarray\n",
       "    `a` with its axes permuted.  A view is returned whenever\n",
       "    possible.\n",
       "\n",
       "See Also\n",
       "--------\n",
       "moveaxis\n",
       "argsort\n",
       "\n",
       "Notes\n",
       "-----\n",
       "Use `transpose(a, argsort(axes))` to invert the transposition of tensors\n",
       "when using the `axes` keyword argument.\n",
       "\n",
       "Transposing a 1-D array returns an unchanged view of the original array.\n",
       "\n",
       "Examples\n",
       "--------\n",
       ">>> x = np.arange(4).reshape((2,2))\n",
       ">>> x\n",
       "array([[0, 1],\n",
       "       [2, 3]])\n",
       "\n",
       ">>> np.transpose(x)\n",
       "array([[0, 2],\n",
       "       [1, 3]])\n",
       "\n",
       ">>> x = np.ones((1, 2, 3))\n",
       ">>> np.transpose(x, (1, 0, 2)).shape\n",
       "(2, 1, 3)\n",
       "\u001b[1;31mFile:\u001b[0m      c:\\users\\dell1\\anaconda3\\lib\\site-packages\\numpy\\core\\fromnumeric.py\n",
       "\u001b[1;31mType:\u001b[0m      function\n"
      ]
     },
     "metadata": {},
     "output_type": "display_data"
    }
   ],
   "source": [
    "import numpy as np\n",
    "?np.transpose\n"
   ]
  },
  {
   "cell_type": "code",
   "execution_count": null,
   "metadata": {},
   "outputs": [],
   "source": []
  }
 ],
 "metadata": {
  "kernelspec": {
   "display_name": "Python 3",
   "language": "python",
   "name": "python3"
  },
  "language_info": {
   "codemirror_mode": {
    "name": "ipython",
    "version": 3
   },
   "file_extension": ".py",
   "mimetype": "text/x-python",
   "name": "python",
   "nbconvert_exporter": "python",
   "pygments_lexer": "ipython3",
   "version": "3.7.4"
  }
 },
 "nbformat": 4,
 "nbformat_minor": 4
}
